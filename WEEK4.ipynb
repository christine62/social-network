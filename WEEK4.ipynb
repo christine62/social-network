{
 "cells": [
  {
   "cell_type": "markdown",
   "metadata": {},
   "source": [
    "# Preferential Attachment Model"
   ]
  },
  {
   "cell_type": "markdown",
   "metadata": {},
   "source": [
    "## Degree Distributions"
   ]
  },
  {
   "cell_type": "markdown",
   "metadata": {
    "collapsed": true
   },
   "source": [
    "- the probability distribution of the degrees over the entire network"
   ]
  },
  {
   "cell_type": "markdown",
   "metadata": {},
   "source": [
    "```python\n",
    "degrees = G.degree()\n",
    "degree_values = sorted(set(degrees.values()))\n",
    "histogram = [list(degrees.values()).count(i)/float(nx.number_of_nodes(G)) for i in degree_values]\n",
    "\n",
    "import matplotlib.pyplot as plt\n",
    "plt.bar(degree_values,histogram)\n",
    "plt.xlabel('Degree')\n",
    "plt.ylabel('Fraction of Nodes')\n",
    "plt.show()\n",
    "```"
   ]
  },
  {
   "cell_type": "code",
   "execution_count": 2,
   "metadata": {
    "collapsed": true
   },
   "outputs": [],
   "source": [
    "import networkx as nx\n",
    "import matplotlib.pyplot as plt"
   ]
  },
  {
   "cell_type": "code",
   "execution_count": 7,
   "metadata": {
    "collapsed": true
   },
   "outputs": [],
   "source": [
    "G=nx.Graph()\n",
    "G.add_edges_from([('A','B'),('A','H'),('A','G'),('B','C'),('C','D'),\n",
    "                  ('C','E'),('D','F'),('F','G'),('F','I'),('G','H'),('G','I')])"
   ]
  },
  {
   "cell_type": "code",
   "execution_count": 9,
   "metadata": {},
   "outputs": [
    {
     "data": {
      "image/png": "[encoded data removed]",
      "text/plain": [
       "<matplotlib.figure.Figure at 0x1110812b0>"
      ]
     },
     "metadata": {},
     "output_type": "display_data"
    }
   ],
   "source": [
    "degrees = G.degree()\n",
    "degree_values = sorted(set(degrees.values()))\n",
    "histogram = [list(degrees.values()).count(i)/float(nx.number_of_nodes(G)) for i in degree_values]\n",
    "                  \n",
    "plt.bar(degree_values,histogram)\n",
    "plt.xlabel('Degree')\n",
    "plt.ylabel('Fraction of Nodes')\n",
    "plt.show()"
   ]
  },
  {
   "cell_type": "code",
   "execution_count": 10,
   "metadata": {
    "collapsed": true
   },
   "outputs": [],
   "source": [
    "G1=nx.DiGraph()\n",
    "G1.add_edges_from([('E','C'),('C','B'),('B','A'),('D','C'),('F','D'),\n",
    "                  ('G','F'),('F','D'),('H','A'),('F','I'),('H','G'),('G','A'),('G','I')])"
   ]
  },
  {
   "cell_type": "code",
   "execution_count": 15,
   "metadata": {},
   "outputs": [
    {
     "data": {
      "image/png": "[encoded data removed]",
      "text/plain": [
       "<matplotlib.figure.Figure at 0x111486be0>"
      ]
     },
     "metadata": {},
     "output_type": "display_data"
    }
   ],
   "source": [
    "in_degrees=G1.in_degree()\n",
    "in_degree_values=sorted(set(in_degrees.values()))\n",
    "histogram=[list(in_degrees.values()).count(i)/float(nx.number_of_nodes(G)) for i in in_degree_values]\n",
    "plt.bar(in_degree_values,histogram)\n",
    "plt.xlabel(\"In Degree\")\n",
    "plt.ylabel(\"Fraction of Nodes\")\n",
    "plt.show()"
   ]
  },
  {
   "cell_type": "markdown",
   "metadata": {},
   "source": [
    "<img src=\"week41.png\" width=\"500px\"></img>"
   ]
  },
  {
   "cell_type": "code",
   "execution_count": 19,
   "metadata": {},
   "outputs": [
    {
     "data": {
      "image/png": "[encoded data removed]",
      "text/plain": [
       "<matplotlib.figure.Figure at 0x1113c5940>"
      ]
     },
     "metadata": {},
     "output_type": "display_data"
    }
   ],
   "source": [
    "G = nx.barabasi_albert_graph(1000000,1)\n",
    "degrees=G.degree()\n",
    "degree_values=sorted(set(degrees.values()))\n",
    "histogram = [list(degrees.values()).count(i)/float(nx.number_of_nodes(G)) for i in degree_values]\n",
    "plt.plot(degree_values,histogram,'o')\n",
    "plt.xlabel('Degree')\n",
    "plt.ylabel('log')\n",
    "plt.xscale('log')\n",
    "plt.yscale('log')\n",
    "plt.show()"
   ]
  },
  {
   "cell_type": "markdown",
   "metadata": {},
   "source": [
    "### Summary\n",
    "- The degree distribution of a graph is the probability distribution of the degrees over the entire network.  \n",
    "- Many real networks have degree distributions that look like power laws ($P(k)=Ck^{-\\alpha}$).  \n",
    "- Models of network generation allow us to identify mechanisms that give rise to observed patterns in real data.  \n",
    "- The Preferential Attachment Model produces networks with a power law degree distribution.  \n",
    "- You can use the following code to construct a n-node preferential attachment network, where each new node attaches to m existing nodes. \n",
    "```python\n",
    "barabasi_albert_graph(n,m)\n",
    "```"
   ]
  },
  {
   "cell_type": "markdown",
   "metadata": {},
   "source": [
    "## Small World Networks"
   ]
  },
  {
   "cell_type": "markdown",
   "metadata": {},
   "source": [
    "Social networks tend to have high clustering coefficient and small average path length."
   ]
  },
  {
   "cell_type": "code",
   "execution_count": 25,
   "metadata": {},
   "outputs": [
    {
     "name": "stdout",
     "output_type": "stream",
     "text": [
      "0.03769346269849216 3.170766766766767\n"
     ]
    }
   ],
   "source": [
    "G = nx.barabasi_albert_graph(1000,4)\n",
    "print(nx.average_clustering(G),nx.average_shortest_path_length(G))"
   ]
  },
  {
   "cell_type": "markdown",
   "metadata": {},
   "source": [
    "Small-world model:  \n",
    "- Start with a ring of n nodes, where each node is connected to its k nearest neighbors.  \n",
    "- Fix a parameter $p\\in[0,1]$  \n",
    "- Consider each edge(u,v). With probability p, select a node w at random and rewire the edge (u,v) so it becomes (u,w).  "
   ]
  },
  {
   "cell_type": "markdown",
   "metadata": {},
   "source": [
    "```python\n",
    "watts_strogatz_graph(n,k,p)\n",
    "```\n",
    "returns a samll world network with n nodes, starting with a ring lattice with each node connected to its k nearest neighbors, and rewiring probability p. "
   ]
  },
  {
   "cell_type": "code",
   "execution_count": 27,
   "metadata": {},
   "outputs": [
    {
     "data": {
      "image/png": "[encoded data removed]",
      "text/plain": [
       "<matplotlib.figure.Figure at 0x1113d4860>"
      ]
     },
     "metadata": {},
     "output_type": "display_data"
    }
   ],
   "source": [
    "G = nx.watts_strogatz_graph(1000,6,0.04)\n",
    "degrees= G.degree()\n",
    "degree_values = sorted(set(degrees.values()))\n",
    "histogram = [list(degrees.values()).count(i)/float(nx.number_of_nodes(G)) for i in degree_values]\n",
    "plt.bar(degree_values,histogram)\n",
    "plt.xlabel('Degree')\n",
    "plt.ylabel('Fraction of Nodes')\n",
    "plt.show()"
   ]
  },
  {
   "cell_type": "markdown",
   "metadata": {},
   "source": [
    "- Small world networks can be disconnected, which is sometimes undesirable.\n",
    "```python\n",
    "connected_watts_strogatz_graph(n,k,p,t)\n",
    "```\n",
    "runs up to t times until it returns a connected small world network.\n",
    "```python\n",
    "newman_watts_strogatz_graph(n,k,p)\n",
    "```\n",
    "runs a model similar to the small world model, but rather than rewiring edges, new edges are added with probability p."
   ]
  },
  {
   "cell_type": "markdown",
   "metadata": {
    "collapsed": true
   },
   "source": [
    "### summary\n",
    "- Real social networks appear to have small shortest paths between nodes and high clustering coefficient.   \n",
    "- The preferencial attachment model produces networks with small shortest oaths but very small clustering coefficient. \n",
    " \n",
    "- The small worl model starts with a ring lattice with nodes connected to k nearest neighbors (high local clustering), and it rewires edges with probability p.   \n",
    "- For small values of p, small world networks have small average shortest path and high clustering coefficient, matching what we observe in real networks.  \n",
    "- However, the degree distribution of small world networks is not a power law."
   ]
  },
  {
   "cell_type": "markdown",
   "metadata": {},
   "source": [
    "## Link Prediction  \n",
    "Whats new edges are likely to form in this network?"
   ]
  },
  {
   "cell_type": "markdown",
   "metadata": {},
   "source": [
    "### Measure I: Common Neighbors\n",
    "The number of common neighbors of nodes X and Y is $comm\\_neigh(X,Y)=|N(X)\\cap N(Y)|$, where N(X) is the set of neighbors of node X"
   ]
  },
  {
   "cell_type": "code",
   "execution_count": 6,
   "metadata": {},
   "outputs": [
    {
     "data": {
      "image/png": "[encoded data removed]",
      "text/plain": [
       "<matplotlib.figure.Figure at 0x11c94eb00>"
      ]
     },
     "metadata": {},
     "output_type": "display_data"
    }
   ],
   "source": [
    "G=nx.Graph()\n",
    "G.add_edges_from([('A','B'),('A','D'),('A','E'),('B','C'),('B','D'),\n",
    "                  ('C','D'),('C','F'),('E','F'),('E','G'),('G','F'),('G','I'),('G','H')])\n",
    "nx.draw_networkx(G)\n",
    "plt.show()"
   ]
  },
  {
   "cell_type": "code",
   "execution_count": 8,
   "metadata": {},
   "outputs": [
    {
     "data": {
      "text/plain": [
       "[('I', 'D', 0),\n",
       " ('I', 'A', 0),\n",
       " ('I', 'C', 0),\n",
       " ('I', 'E', 1),\n",
       " ('I', 'B', 0),\n",
       " ('I', 'H', 1),\n",
       " ('I', 'F', 1),\n",
       " ('H', 'D', 0),\n",
       " ('H', 'A', 0),\n",
       " ('H', 'C', 0),\n",
       " ('H', 'E', 1),\n",
       " ('H', 'B', 0),\n",
       " ('H', 'F', 1),\n",
       " ('D', 'E', 1),\n",
       " ('D', 'G', 0),\n",
       " ('D', 'F', 1),\n",
       " ('A', 'G', 1),\n",
       " ('A', 'F', 1),\n",
       " ('A', 'C', 2),\n",
       " ('C', 'E', 1),\n",
       " ('C', 'G', 1),\n",
       " ('E', 'B', 1),\n",
       " ('G', 'B', 0),\n",
       " ('B', 'F', 1)]"
      ]
     },
     "execution_count": 8,
     "metadata": {},
     "output_type": "execute_result"
    }
   ],
   "source": [
    "common_neigh=[(e[0],e[1],len(list(nx.common_neighbors(G,e[0],e[1])))) for e in nx.non_edges(G)]\n",
    "common_neigh"
   ]
  },
  {
   "cell_type": "markdown",
   "metadata": {},
   "source": [
    "### Measure 2: Jaccard Coefficient\n",
    "Number of common neighbors normalized by the total number of neighbors.  \n",
    "The Jaccard coefficient of nodes X and Y is $$jacc\\_coeff(X,Y)=\\frac{|N(X)\\cap N(Y)|}{|N(X)\\cup N(Y)|}$$"
   ]
  },
  {
   "cell_type": "code",
   "execution_count": 10,
   "metadata": {},
   "outputs": [
    {
     "data": {
      "text/plain": [
       "[('I', 'D', 0.0),\n",
       " ('I', 'A', 0.0),\n",
       " ('I', 'C', 0.0),\n",
       " ('I', 'E', 0.3333333333333333),\n",
       " ('I', 'B', 0.0),\n",
       " ('I', 'H', 1.0),\n",
       " ('I', 'F', 0.3333333333333333),\n",
       " ('H', 'D', 0.0),\n",
       " ('H', 'A', 0.0),\n",
       " ('H', 'C', 0.0),\n",
       " ('H', 'E', 0.3333333333333333),\n",
       " ('H', 'B', 0.0),\n",
       " ('H', 'F', 0.3333333333333333),\n",
       " ('D', 'E', 0.2),\n",
       " ('D', 'G', 0.0),\n",
       " ('D', 'F', 0.2),\n",
       " ('A', 'G', 0.16666666666666666),\n",
       " ('A', 'F', 0.2),\n",
       " ('A', 'C', 0.5),\n",
       " ('C', 'E', 0.2),\n",
       " ('C', 'G', 0.16666666666666666),\n",
       " ('E', 'B', 0.2),\n",
       " ('G', 'B', 0.0),\n",
       " ('B', 'F', 0.2)]"
      ]
     },
     "execution_count": 10,
     "metadata": {},
     "output_type": "execute_result"
    }
   ],
   "source": [
    "L= list(nx.jaccard_coefficient(G))\n",
    "L"
   ]
  },
  {
   "cell_type": "markdown",
   "metadata": {},
   "source": [
    "### Measure 3: Resource Allocation\n",
    "Fraction of a \"resource\" that a node can send to another through their common neighbors.  \n",
    "The Resource Allocation index of nodes X and Y is $$res\\_alloc(X,Y)=\\sum_{u\\in N(X) \\cap N(Y)}\\frac{1}{|N(u)|}$$"
   ]
  },
  {
   "cell_type": "code",
   "execution_count": 11,
   "metadata": {},
   "outputs": [
    {
     "data": {
      "text/plain": [
       "[('I', 'D', 0),\n",
       " ('I', 'A', 0),\n",
       " ('I', 'C', 0),\n",
       " ('I', 'E', 0.25),\n",
       " ('I', 'B', 0),\n",
       " ('I', 'H', 0.25),\n",
       " ('I', 'F', 0.25),\n",
       " ('H', 'D', 0),\n",
       " ('H', 'A', 0),\n",
       " ('H', 'C', 0),\n",
       " ('H', 'E', 0.25),\n",
       " ('H', 'B', 0),\n",
       " ('H', 'F', 0.25),\n",
       " ('D', 'E', 0.3333333333333333),\n",
       " ('D', 'G', 0),\n",
       " ('D', 'F', 0.3333333333333333),\n",
       " ('A', 'G', 0.3333333333333333),\n",
       " ('A', 'F', 0.3333333333333333),\n",
       " ('A', 'C', 0.6666666666666666),\n",
       " ('C', 'E', 0.3333333333333333),\n",
       " ('C', 'G', 0.3333333333333333),\n",
       " ('E', 'B', 0.3333333333333333),\n",
       " ('G', 'B', 0),\n",
       " ('B', 'F', 0.3333333333333333)]"
      ]
     },
     "execution_count": 11,
     "metadata": {},
     "output_type": "execute_result"
    }
   ],
   "source": [
    "L = list(nx.resource_allocation_index(G))\n",
    "L"
   ]
  },
  {
   "cell_type": "markdown",
   "metadata": {},
   "source": [
    "### Measure 4: Adamic-Adar Index\n",
    "log in the denominator.  \n",
    "$$adamic\\_adar(X,Y) = \\sum_{u\\in N(X) \\cap N(Y)}\\frac{1}{log(|N(u)|)}$$"
   ]
  },
  {
   "cell_type": "markdown",
   "metadata": {},
   "source": [
    "### Measure 5: Perf. Attachment\n",
    "In the preferential attachment model, nodes with high degree get more neighbors.  \n",
    "The preferential attachment scire of nodes X and Y is\n",
    "$$pres\\_attach(X,Y)=|N(X)||N(Y)|$$"
   ]
  },
  {
   "cell_type": "code",
   "execution_count": 12,
   "metadata": {},
   "outputs": [
    {
     "data": {
      "text/plain": [
       "[('I', 'D', 3),\n",
       " ('I', 'A', 3),\n",
       " ('I', 'C', 3),\n",
       " ('I', 'E', 3),\n",
       " ('I', 'B', 3),\n",
       " ('I', 'H', 1),\n",
       " ('I', 'F', 3),\n",
       " ('H', 'D', 3),\n",
       " ('H', 'A', 3),\n",
       " ('H', 'C', 3),\n",
       " ('H', 'E', 3),\n",
       " ('H', 'B', 3),\n",
       " ('H', 'F', 3),\n",
       " ('D', 'E', 9),\n",
       " ('D', 'G', 12),\n",
       " ('D', 'F', 9),\n",
       " ('A', 'G', 12),\n",
       " ('A', 'F', 9),\n",
       " ('A', 'C', 9),\n",
       " ('C', 'E', 9),\n",
       " ('C', 'G', 12),\n",
       " ('E', 'B', 9),\n",
       " ('G', 'B', 12),\n",
       " ('B', 'F', 9)]"
      ]
     },
     "execution_count": 12,
     "metadata": {},
     "output_type": "execute_result"
    }
   ],
   "source": [
    "L = list(nx.preferential_attachment(G))\n",
    "L"
   ]
  },
  {
   "cell_type": "markdown",
   "metadata": {},
   "source": [
    "### Measure 6: Community Common Neighbors\n",
    "Number of common neighbors with bonus for neighbors in same community.  \n",
    "The Common Neighbor Soundarajan_Hopcroft score of nodes X and Y is:$$cn\\_soundarajan_hopcroft(X,Y)=|N(X)\\cap N(Y)|+ \\sum_{u\\in N(X)\\cap N(Y)}f(u)$$\n",
    "where $$f(u)=\\left\\{\n",
    "\\begin{array}{rcl}\n",
    "1       &      & {u\\ in\\ same\\ comm.\\ as\\ X\\ and\\ Y}\\\\\n",
    "0     &      & {otherwise}\n",
    "\\end{array} \\right. $$"
   ]
  },
  {
   "cell_type": "code",
   "execution_count": 13,
   "metadata": {
    "collapsed": true
   },
   "outputs": [],
   "source": [
    "G.node['A']['community']=0\n",
    "G.node['B']['community']=0\n",
    "G.node['C']['community']=0\n",
    "G.node['D']['community']=0\n",
    "G.node['E']['community']=1\n",
    "G.node['F']['community']=1\n",
    "G.node['G']['community']=1\n",
    "G.node['H']['community']=1\n",
    "G.node['I']['community']=1"
   ]
  },
  {
   "cell_type": "code",
   "execution_count": 15,
   "metadata": {},
   "outputs": [
    {
     "data": {
      "text/plain": [
       "[('I', 'D', 0),\n",
       " ('I', 'A', 0),\n",
       " ('I', 'C', 0),\n",
       " ('I', 'E', 2),\n",
       " ('I', 'B', 0),\n",
       " ('I', 'H', 2),\n",
       " ('I', 'F', 2),\n",
       " ('H', 'D', 0),\n",
       " ('H', 'A', 0),\n",
       " ('H', 'C', 0),\n",
       " ('H', 'E', 2),\n",
       " ('H', 'B', 0),\n",
       " ('H', 'F', 2),\n",
       " ('D', 'E', 1),\n",
       " ('D', 'G', 0),\n",
       " ('D', 'F', 1),\n",
       " ('A', 'G', 1),\n",
       " ('A', 'F', 1),\n",
       " ('A', 'C', 4),\n",
       " ('C', 'E', 1),\n",
       " ('C', 'G', 1),\n",
       " ('E', 'B', 1),\n",
       " ('G', 'B', 0),\n",
       " ('B', 'F', 1)]"
      ]
     },
     "execution_count": 15,
     "metadata": {},
     "output_type": "execute_result"
    }
   ],
   "source": [
    "L = list(nx.cn_soundarajan_hopcroft(G))\n",
    "L"
   ]
  },
  {
   "cell_type": "markdown",
   "metadata": {},
   "source": [
    "### Measure 7: Community Resource Allocation\n",
    "Similar to resource allocation index, but only considering nodes in the same community."
   ]
  },
  {
   "cell_type": "code",
   "execution_count": 16,
   "metadata": {},
   "outputs": [
    {
     "data": {
      "text/plain": [
       "[('I', 'D', 0),\n",
       " ('I', 'A', 0),\n",
       " ('I', 'C', 0),\n",
       " ('I', 'E', 0.25),\n",
       " ('I', 'B', 0),\n",
       " ('I', 'H', 0.25),\n",
       " ('I', 'F', 0.25),\n",
       " ('H', 'D', 0),\n",
       " ('H', 'A', 0),\n",
       " ('H', 'C', 0),\n",
       " ('H', 'E', 0.25),\n",
       " ('H', 'B', 0),\n",
       " ('H', 'F', 0.25),\n",
       " ('D', 'E', 0),\n",
       " ('D', 'G', 0),\n",
       " ('D', 'F', 0),\n",
       " ('A', 'G', 0),\n",
       " ('A', 'F', 0),\n",
       " ('A', 'C', 0.6666666666666666),\n",
       " ('C', 'E', 0),\n",
       " ('C', 'G', 0),\n",
       " ('E', 'B', 0),\n",
       " ('G', 'B', 0),\n",
       " ('B', 'F', 0)]"
      ]
     },
     "execution_count": 16,
     "metadata": {},
     "output_type": "execute_result"
    }
   ],
   "source": [
    "L = list(nx.ra_index_soundarajan_hopcroft(G))\n",
    "L"
   ]
  },
  {
   "cell_type": "markdown",
   "metadata": {},
   "source": [
    "### Summary\n",
    "- Link prediction pronlem: Given a network, predict which edge will be formed in the future.  \n"
   ]
  },
  {
   "cell_type": "code",
   "execution_count": null,
   "metadata": {
    "collapsed": true
   },
   "outputs": [],
   "source": []
  }
 ],
 "metadata": {
  "kernelspec": {
   "display_name": "Python 3",
   "language": "python",
   "name": "python3"
  },
  "language_info": {
   "codemirror_mode": {
    "name": "ipython",
    "version": 3
   },
   "file_extension": ".py",
   "mimetype": "text/x-python",
   "name": "python",
   "nbconvert_exporter": "python",
   "pygments_lexer": "ipython3",
   "version": "3.6.1"
  }
 },
 "nbformat": 4,
 "nbformat_minor": 2
}
